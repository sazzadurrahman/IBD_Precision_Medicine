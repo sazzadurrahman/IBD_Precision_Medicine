{
 "cells": [
  {
   "cell_type": "code",
   "execution_count": 39,
   "metadata": {},
   "outputs": [
    {
     "data": {
      "text/html": [
       "        <script type=\"text/javascript\">\n",
       "        window.PlotlyConfig = {MathJaxConfig: 'local'};\n",
       "        if (window.MathJax) {MathJax.Hub.Config({SVG: {font: \"STIX-Web\"}});}\n",
       "        if (typeof require !== 'undefined') {\n",
       "        require.undef(\"plotly\");\n",
       "        requirejs.config({\n",
       "            paths: {\n",
       "                'plotly': ['https://cdn.plot.ly/plotly-latest.min']\n",
       "            }\n",
       "        });\n",
       "        require(['plotly'], function(Plotly) {\n",
       "            window._Plotly = Plotly;\n",
       "        });\n",
       "        }\n",
       "        </script>\n",
       "        "
      ]
     },
     "metadata": {},
     "output_type": "display_data"
    }
   ],
   "source": [
    "import allel\n",
    "import csv\n",
    "import pandas as pd\n",
    "from functools import reduce\n",
    "import os\n",
    "import sys\n",
    "import numpy as np\n",
    "import scipy\n",
    "import matplotlib as mpl\n",
    "import matplotlib.pyplot as plt\n",
    "%matplotlib inline\n",
    "import seaborn as sns\n",
    "# sns.set_style('white')\n",
    "# sns.set_style('ticks')\n",
    "# sns.set_context('notebook')\n",
    "import h5py\n",
    "pd.set_option('display.max_columns', None)\n",
    "pd.set_option('display.max_colwidth', -1)\n",
    "import IPython\n",
    "import pandas_profiling as pp\n",
    "import mplcursors\n",
    "from mpldatacursor import datacursor\n",
    "#%matplotlib nbagg\n",
    "%matplotlib inline\n",
    "from ipywidgets import interact, interactive, fixed, interact_manual\n",
    "import ipywidgets as widgets\n",
    "from plotly.offline import iplot, init_notebook_mode\n",
    "import plotly.graph_objs as go\n",
    "init_notebook_mode(connected=True)\n",
    "import plotly \n",
    "from IPython.display import IFrame\n",
    "%config InlineBackend.figure_format ='retina'\n",
    "from beakerx.object import beakerx"
   ]
  },
  {
   "cell_type": "markdown",
   "metadata": {},
   "source": [
    "### Read all VCF files from source, and read each file as dataframe "
   ]
  },
  {
   "cell_type": "code",
   "execution_count": 32,
   "metadata": {},
   "outputs": [],
   "source": [
    "import glob\n",
    "import os\n",
    "#vcf_path=\"J:/Experimental data/2.0 CURRENT STUDIES/CCR001/Data uploaded to AnalytixAgility/IBD Donors whole exome vcfs/\"\n",
    "vcf_path=\"C:/Reprocell/IBD Donors whole exome vcfs/\""
   ]
  },
  {
   "cell_type": "code",
   "execution_count": 33,
   "metadata": {},
   "outputs": [],
   "source": [
    "#/P15-005.vcf.gz\n",
    "filenames=glob.glob(vcf_path+'*.vcf.gz')\n"
   ]
  },
  {
   "cell_type": "markdown",
   "metadata": {},
   "source": [
    "### TNF IBD"
   ]
  },
  {
   "cell_type": "code",
   "execution_count": 41,
   "metadata": {},
   "outputs": [],
   "source": [
    "#tnf_csv1=\"J:/Experimental data/2.0 CURRENT STUDIES/CCR001/Data uploaded to AnalytixAgility/TNFa levels pgml_IBD_25 donors.csv\"\n",
    "tnf_csv1=\"C:/Reprocell/data/TNFa levels pgml_IBD_25 donors.csv\""
   ]
  },
  {
   "cell_type": "code",
   "execution_count": 42,
   "metadata": {},
   "outputs": [],
   "source": [
    "tnf_df = pd.read_csv(tnf_csv1)"
   ]
  },
  {
   "cell_type": "code",
   "execution_count": 46,
   "metadata": {
    "scrolled": true
   },
   "outputs": [
    {
     "data": {
      "application/vnd.jupyter.widget-view+json": {
       "model_id": "8c7a722bb7ae418897b237caa8e416ff",
       "version_major": 2,
       "version_minor": 0
      }
     },
     "metadata": {},
     "output_type": "display_data"
    }
   ],
   "source": [
    "tnf_df.head(10)"
   ]
  },
  {
   "cell_type": "code",
   "execution_count": 44,
   "metadata": {},
   "outputs": [],
   "source": [
    "#Replace whitepsace in column names\n",
    "#tnf_df.columns = tnf_df.columns.str.strip().str.lower().str.replace(' ', '_')\n",
    "tnf_df.columns = tnf_df.columns.str.strip().str.replace(' ', '_')"
   ]
  },
  {
   "cell_type": "code",
   "execution_count": 45,
   "metadata": {},
   "outputs": [
    {
     "data": {
      "application/vnd.jupyter.widget-view+json": {
       "model_id": "8750be6c57324a7aba84c4edac76bcad",
       "version_major": 2,
       "version_minor": 0
      }
     },
     "metadata": {},
     "output_type": "display_data"
    }
   ],
   "source": [
    "tnf_df.head(10)"
   ]
  },
  {
   "cell_type": "code",
   "execution_count": 11,
   "metadata": {
    "scrolled": true
   },
   "outputs": [],
   "source": [
    "#tnf_df.profile_report()\n",
    "#pp.ProfileReport(tnf_df)\n",
    "#profile = tnf_df.profile_report(plot={'histogram': {'bins': 8}})\n"
   ]
  },
  {
   "cell_type": "code",
   "execution_count": 12,
   "metadata": {},
   "outputs": [],
   "source": [
    "#rejected_variables = profile.get_rejected_variables(threshold=.9)"
   ]
  },
  {
   "cell_type": "code",
   "execution_count": 47,
   "metadata": {},
   "outputs": [
    {
     "data": {
      "application/vnd.jupyter.widget-view+json": {
       "model_id": "a8bb637a3b0748549e4ca9b75f720ccc",
       "version_major": 2,
       "version_minor": 0
      },
      "text/plain": [
       "interactive(children=(Dropdown(description='Column 1:', index=3, options=('Donor_ID', 'Media_Only', 'Media_Onl…"
      ]
     },
     "metadata": {},
     "output_type": "display_data"
    }
   ],
   "source": [
    "drop_down1=widgets.Dropdown(\n",
    "    options=tnf_df.columns.values,\n",
    "    value='SEB',\n",
    "    description='Column 1:',\n",
    "    disabled=False,\n",
    "     )\n",
    "drop_down2=widgets.Dropdown(\n",
    "    options=tnf_df.columns.values,\n",
    "    value='SEB',\n",
    "    description='Column 2:',\n",
    "    disabled=False,\n",
    "     )\n",
    "\n",
    "def update_barchart(column1, column2):\n",
    "    return tnf_df.groupby([column1, column2]).size().unstack().plot(kind='bar',stacked=True)\n",
    "   \n",
    "interactive(update_barchart, column1=drop_down1,column2=drop_down2)\n",
    "##plt.legend(loc='center left', bbox_to_anchor=(1.0, 0.5))\n"
   ]
  },
  {
   "cell_type": "code",
   "execution_count": 23,
   "metadata": {},
   "outputs": [
    {
     "name": "stdout",
     "output_type": "stream",
     "text": [
      "Dropdown(description='Column:', index=3, options=('Donor_ID', 'Media_Only', 'Media_Only.1', 'SEB', 'SEB.1', 'SEB_5ASA', 'SEB_5ASA.1', 'SEB_Pred_1uM', 'SEB_Pred_1uM.1', 'SEB_DMSO', 'SEB_DMSO.1', 'SEB_Pred_100nM', 'SEB_Pred_100nM.1', 'SEB_BIRB796_100nM', 'SEB_BIRB796_100nM.1', 'SEB_BIRB796_10nM', 'SEB_BIRB796_10nM.1'), value='SEB')\n"
     ]
    },
    {
     "data": {
      "application/vnd.jupyter.widget-view+json": {
       "model_id": "6eeb0804a6b0481b874281b6440bd5d6",
       "version_major": 2,
       "version_minor": 0
      },
      "text/plain": [
       "interactive(children=(Dropdown(description='Column:', index=3, options=('Donor_ID', 'Media_Only', 'Media_Only.…"
      ]
     },
     "metadata": {},
     "output_type": "display_data"
    }
   ],
   "source": [
    "drop_down=widgets.Dropdown(\n",
    "    options=tnf_df.columns.values,\n",
    "    value='SEB',\n",
    "    description='Column:',\n",
    "    disabled=False,\n",
    "     )\n",
    "print(drop_down)\n",
    "column2=tnf_df['Donor_ID']\n",
    "def update_barchart(columns):\n",
    "    \n",
    "    return tnf_df.groupby(columns).size().plot(kind='bar',stacked=True)\n",
    "    \n",
    "\n",
    "interactive(update_barchart, columns=drop_down)"
   ]
  },
  {
   "cell_type": "code",
   "execution_count": 49,
   "metadata": {},
   "outputs": [
    {
     "data": {
      "application/vnd.jupyter.widget-view+json": {
       "model_id": "7ecf04729bae4bb894ec0a5916486bb4",
       "version_major": 2,
       "version_minor": 0
      }
     },
     "metadata": {},
     "output_type": "display_data"
    }
   ],
   "source": [
    "#donor_loc = tnf_df.columns.get_loc('SEB 5ASA')\n",
    "donor_slice = np.r_[0, 3:17]\n",
    "tnf_dfs=tnf_df.iloc[:,donor_slice]\n",
    "tnf_dfs.head(5)"
   ]
  },
  {
   "cell_type": "markdown",
   "metadata": {},
   "source": [
    "#### Calculate mean between 2s' columns"
   ]
  },
  {
   "cell_type": "code",
   "execution_count": 50,
   "metadata": {},
   "outputs": [],
   "source": [
    "s1=tnf_dfs[['SEB', 'SEB.1']].mean(axis=1)\n",
    "s2=tnf_dfs[['SEB_5ASA', 'SEB_5ASA.1']].mean(axis=1)\n",
    "s3=tnf_dfs[['SEB_DMSO', 'SEB_DMSO.1']].mean(axis=1)\n",
    "s4=tnf_dfs[['SEB_Pred_1uM','SEB_Pred_1uM.1']].mean(axis=1)\n",
    "s5=tnf_dfs[['SEB_Pred_100nM','SEB_Pred_100nM.1']].mean(axis=1)\n",
    "s6=tnf_dfs[['SEB_BIRB796_100nM', 'SEB_BIRB796_100nM.1']].mean(axis=1)\n",
    "s7=tnf_dfs[['SEB_BIRB796_10nM', 'SEB_BIRB796_10nM.1']].mean(axis=1)"
   ]
  },
  {
   "cell_type": "code",
   "execution_count": 51,
   "metadata": {},
   "outputs": [],
   "source": [
    "tnf_dfs_mean = tnf_dfs[['Donor_ID']].assign(SEB_mean=s1, SEB5ASA_mean=s2, SEBDMSO_mean=s3, SEBPred1uM_mean=s4,SEBPred100nM_mean=s5, SEBBirb796100nM=s6, SEBBirb79610nM=s7)"
   ]
  },
  {
   "cell_type": "code",
   "execution_count": 52,
   "metadata": {},
   "outputs": [
    {
     "data": {
      "application/vnd.jupyter.widget-view+json": {
       "model_id": "2115d4218cfd4037b55cbb241df554e9",
       "version_major": 2,
       "version_minor": 0
      }
     },
     "metadata": {},
     "output_type": "display_data"
    }
   ],
   "source": [
    "tns_control=tnf_dfs_mean[['Donor_ID','SEB_mean','SEBDMSO_mean']]\n",
    "tns_control"
   ]
  },
  {
   "cell_type": "code",
   "execution_count": 13,
   "metadata": {},
   "outputs": [],
   "source": [
    "#tnf_dfs_mean.columns[1:]"
   ]
  },
  {
   "cell_type": "code",
   "execution_count": 14,
   "metadata": {},
   "outputs": [],
   "source": [
    "#col_options = [{\"name\":x, \"id\":x} for x in tnf_dfs_mean.columns[1:]]"
   ]
  },
  {
   "cell_type": "markdown",
   "metadata": {},
   "source": [
    "#### Compare each mean column against the control column "
   ]
  },
  {
   "cell_type": "code",
   "execution_count": 53,
   "metadata": {},
   "outputs": [],
   "source": [
    "t1=tnf_dfs_mean['SEB5ASA_mean']/tnf_dfs_mean['SEB_mean']*100\n",
    "t2=tnf_dfs_mean['SEBPred1uM_mean']/tnf_dfs_mean['SEBDMSO_mean']*100\n",
    "t3=tnf_dfs_mean['SEBPred100nM_mean']/tnf_dfs_mean['SEBDMSO_mean']*100\n",
    "t4=tnf_dfs_mean['SEBBirb796100nM']/tnf_dfs_mean['SEBDMSO_mean']*100\n",
    "t5=tnf_dfs_mean['SEBBirb79610nM']/tnf_dfs_mean['SEBDMSO_mean']*100\n",
    "tnf_mean_compare = round(tnf_dfs_mean[['Donor_ID']].assign(SEB5ASA_SEB=t1, SEBPred1uM_SEBDMSO=t2, SEBPred100nM_SEBDMSO=t3, SEBBirb796100nM_SEBDMSO=t4,SEBBirb79610nM_SEBDMSO=t5),3)"
   ]
  },
  {
   "cell_type": "code",
   "execution_count": 55,
   "metadata": {},
   "outputs": [
    {
     "data": {
      "application/vnd.jupyter.widget-view+json": {
       "model_id": "d2066b5786564ec3bd2591a618799651",
       "version_major": 2,
       "version_minor": 0
      }
     },
     "metadata": {},
     "output_type": "display_data"
    }
   ],
   "source": [
    "tnf_mean_compare.head(1)"
   ]
  },
  {
   "cell_type": "code",
   "execution_count": 57,
   "metadata": {},
   "outputs": [
    {
     "data": {
      "application/vnd.jupyter.widget-view+json": {
       "model_id": "874eeb0fc3e8497ab470302cc6269f6b",
       "version_major": 2,
       "version_minor": 0
      }
     },
     "metadata": {},
     "output_type": "display_data"
    }
   ],
   "source": [
    "#Set index to apply substract on the whole datafraame \n",
    "tnf_mean_compare_i=tnf_mean_compare.set_index('Donor_ID')\n",
    "tnf_mean_compare_i.head(2)"
   ]
  },
  {
   "cell_type": "markdown",
   "metadata": {},
   "source": [
    "### Difference from 100"
   ]
  },
  {
   "cell_type": "code",
   "execution_count": 58,
   "metadata": {},
   "outputs": [
    {
     "data": {
      "application/vnd.jupyter.widget-view+json": {
       "model_id": "6a9e2b56aae44e9c9d33ac5ee1d0fa4c",
       "version_major": 2,
       "version_minor": 0
      }
     },
     "metadata": {},
     "output_type": "display_data"
    }
   ],
   "source": [
    "tnf_mean_compare_i_r=tnf_mean_compare_i.sub(100)\n",
    "tnf_mean_compare_i_r.head(2)"
   ]
  },
  {
   "cell_type": "code",
   "execution_count": 59,
   "metadata": {},
   "outputs": [],
   "source": [
    "tnf_mean_compare_i_r.reset_index(level =['Donor_ID'], inplace = True) "
   ]
  },
  {
   "cell_type": "code",
   "execution_count": 60,
   "metadata": {},
   "outputs": [],
   "source": [
    "format_mapping={'SEB5ASA_SEB': '{:,.3f}', 'SEBPred1uM_SEBDMSO': '{:,.3f}', 'SEBPred100nM_SEBDMSO': '{:.3f}','SEBBirb796100nM_SEBDMSO': '{:.3f}','SEBBirb79610nM_SEBDMSO': '{:.3f}'}"
   ]
  },
  {
   "cell_type": "code",
   "execution_count": 61,
   "metadata": {},
   "outputs": [],
   "source": [
    "# for key, value in format_mapping.items():\n",
    "#     tnf_mean_compare_i_r[key] = tnf_mean_compare_i_r[key].apply(value.format)"
   ]
  },
  {
   "cell_type": "code",
   "execution_count": 62,
   "metadata": {},
   "outputs": [
    {
     "data": {
      "application/vnd.jupyter.widget-view+json": {
       "model_id": "85938dda1bc045cd8378177bdc4b246d",
       "version_major": 2,
       "version_minor": 0
      }
     },
     "metadata": {},
     "output_type": "display_data"
    }
   ],
   "source": [
    "tnf_control=tnf_dfs_mean[['Donor_ID','SEB_mean','SEBDMSO_mean']]\n",
    "tnf_control"
   ]
  },
  {
   "cell_type": "code",
   "execution_count": 63,
   "metadata": {},
   "outputs": [],
   "source": [
    "tnf_compare=tnf_mean_compare_i_r.merge(tnf_control, left_on='Donor_ID', right_on='Donor_ID', how='outer')\n"
   ]
  },
  {
   "cell_type": "code",
   "execution_count": 64,
   "metadata": {},
   "outputs": [
    {
     "data": {
      "application/vnd.jupyter.widget-view+json": {
       "model_id": "0d58d95b75204af98a078e494764bae2",
       "version_major": 2,
       "version_minor": 0
      }
     },
     "metadata": {},
     "output_type": "display_data"
    }
   ],
   "source": [
    "tnf_compare"
   ]
  },
  {
   "cell_type": "code",
   "execution_count": 65,
   "metadata": {},
   "outputs": [
    {
     "data": {
      "text/plain": [
       "[{'label': 'SEB5ASA_SEB', 'value': 'SEB5ASA_SEB'},\n",
       " {'label': 'SEBPred1uM_SEBDMSO', 'value': 'SEBPred1uM_SEBDMSO'},\n",
       " {'label': 'SEBPred100nM_SEBDMSO', 'value': 'SEBPred100nM_SEBDMSO'},\n",
       " {'label': 'SEBBirb796100nM_SEBDMSO', 'value': 'SEBBirb796100nM_SEBDMSO'},\n",
       " {'label': 'SEBBirb79610nM_SEBDMSO', 'value': 'SEBBirb79610nM_SEBDMSO'}]"
      ]
     },
     "execution_count": 65,
     "metadata": {},
     "output_type": "execute_result"
    }
   ],
   "source": [
    "col_options = [dict(label=x, value=x) for x in tnf_mean_compare_i_r.columns]\n",
    "col_options[1:]"
   ]
  },
  {
   "cell_type": "code",
   "execution_count": 67,
   "metadata": {},
   "outputs": [],
   "source": [
    "import plotly.graph_objects as go"
   ]
  },
  {
   "cell_type": "code",
   "execution_count": 28,
   "metadata": {},
   "outputs": [],
   "source": [
    "\n",
    "# fig = go.Figure()\n",
    "\n",
    "# # Add traces\n",
    "# fig.add_trace(go.Scatter(y=tnf_mean_compare_i_r['SEB5ASA_SEB'],\n",
    "#                     mode='markers',name='SEB5ASA_SEB',\n",
    "#                                 text=tnf_mean_compare_i_r['Donor_ID']))\n",
    "# fig.add_trace(go.Scatter(y=tnf_mean_compare_i_r['SEBPred1uM_SEBDMSO'], \n",
    "#                     mode='markers', name='SEBPred1uM_SEBDMSO',\n",
    "#                                 text=tnf_mean_compare_i_r['Donor_ID']))\n",
    "# fig.add_trace(go.Scatter(y=tnf_mean_compare_i_r['SEBPred100nM_SEBDMSO'], \n",
    "#                     mode='markers', name='SEBPred100nM_SEBDMSO',\n",
    "#                                 text=tnf_mean_compare_i_r['Donor_ID']))\n",
    "# fig.show()"
   ]
  },
  {
   "cell_type": "code",
   "execution_count": 68,
   "metadata": {},
   "outputs": [],
   "source": [
    "col=tnf_compare.columns[2:6]"
   ]
  },
  {
   "cell_type": "code",
   "execution_count": 70,
   "metadata": {},
   "outputs": [
    {
     "data": {
      "application/vnd.plotly.v1+json": {
       "config": {
        "plotlyServerURL": "https://plot.ly"
       },
       "data": [
        {
         "mode": "markers",
         "name": "SEBPred1uM_SEBDMSO",
         "text": [
          "P15-002",
          "P15-004",
          "P15-005",
          "P15-020",
          "P15-017",
          "P15-018",
          "P15-012",
          "P15-025",
          "P15-030",
          "P15-023",
          "P15-035",
          "P15-041",
          "P15-058",
          "P15-044",
          "P15-040",
          "P15-057",
          "P15-061",
          "P15-065",
          "P15-067",
          "P15-073",
          "P16-001",
          "P16-002",
          "P16-003",
          "P16-004",
          "P16-005"
         ],
         "type": "scatter",
         "x": [
          15.865,
          3.105,
          5.550000000000001,
          36.760000000000005,
          28.98,
          299.11,
          13.295,
          38.39,
          8.030000000000001,
          77.14,
          10.9,
          5.695,
          4.46,
          20.869999999999997,
          12.59,
          10.255,
          1.77,
          5.6850000000000005,
          14.19,
          17.2,
          11.44,
          9.445,
          1.38,
          29.57,
          15.8
         ],
         "y": [
          -23.385000000000005,
          36.876000000000005,
          -10.090000000000003,
          22.197999999999993,
          -30.349000000000004,
          -31.408,
          193.90699999999998,
          -27.455,
          -15.441999999999993,
          -47.167,
          -45.642,
          -35.995999999999995,
          -12.444000000000003,
          -50.767,
          -26.926000000000002,
          -10.483000000000004,
          32.203,
          -8.266999999999996,
          -26.674000000000007,
          -63.198,
          -2.272999999999996,
          -28.691999999999993,
          46.01400000000001,
          -36.253,
          -11.391999999999996
         ]
        },
        {
         "mode": "markers",
         "name": "SEBPred100nM_SEBDMSO",
         "text": [
          "P15-002",
          "P15-004",
          "P15-005",
          "P15-020",
          "P15-017",
          "P15-018",
          "P15-012",
          "P15-025",
          "P15-030",
          "P15-023",
          "P15-035",
          "P15-041",
          "P15-058",
          "P15-044",
          "P15-040",
          "P15-057",
          "P15-061",
          "P15-065",
          "P15-067",
          "P15-073",
          "P16-001",
          "P16-002",
          "P16-003",
          "P16-004",
          "P16-005"
         ],
         "type": "scatter",
         "x": [
          15.865,
          3.105,
          5.550000000000001,
          36.760000000000005,
          28.98,
          299.11,
          13.295,
          38.39,
          8.030000000000001,
          77.14,
          10.9,
          5.695,
          4.46,
          20.869999999999997,
          12.59,
          10.255,
          1.77,
          5.6850000000000005,
          14.19,
          17.2,
          11.44,
          9.445,
          1.38,
          29.57,
          15.8
         ],
         "y": [
          0.3469999999999942,
          -38.164,
          -1.4410000000000025,
          -4.516000000000005,
          -19.634,
          -35.70099999999999,
          -20.083,
          -43.058,
          -19.863,
          -4.5049999999999955,
          1.2390000000000043,
          -17.822999999999993,
          -19.619,
          -29.683999999999997,
          5.878,
          5.266000000000005,
          -0.8469999999999942,
          36.06,
          3.277000000000001,
          -30.64,
          2.3599999999999994,
          -30.968999999999994,
          -30.796999999999997,
          -88.941,
          -24.494
         ]
        },
        {
         "mode": "markers",
         "name": "SEBBirb796100nM_SEBDMSO",
         "text": [
          "P15-002",
          "P15-004",
          "P15-005",
          "P15-020",
          "P15-017",
          "P15-018",
          "P15-012",
          "P15-025",
          "P15-030",
          "P15-023",
          "P15-035",
          "P15-041",
          "P15-058",
          "P15-044",
          "P15-040",
          "P15-057",
          "P15-061",
          "P15-065",
          "P15-067",
          "P15-073",
          "P16-001",
          "P16-002",
          "P16-003",
          "P16-004",
          "P16-005"
         ],
         "type": "scatter",
         "x": [
          15.865,
          3.105,
          5.550000000000001,
          36.760000000000005,
          28.98,
          299.11,
          13.295,
          38.39,
          8.030000000000001,
          77.14,
          10.9,
          5.695,
          4.46,
          20.869999999999997,
          12.59,
          10.255,
          1.77,
          5.6850000000000005,
          14.19,
          17.2,
          11.44,
          9.445,
          1.38,
          29.57,
          15.8
         ],
         "y": [
          -43.807,
          -85.82900000000001,
          -15.585999999999999,
          -17.084000000000003,
          -22.101,
          -39.073,
          -34.29900000000001,
          -51.146,
          -47.26,
          -28.745999999999995,
          -33.532,
          -24.495000000000005,
          -27.018,
          -45.664,
          -37.53,
          -17.552000000000007,
          -7.061999999999998,
          -13.896,
          -56.061,
          -32.616,
          -25.656000000000006,
          -31.921999999999997,
          -5.435000000000002,
          -90.125,
          -10.411000000000001
         ]
        },
        {
         "mode": "markers",
         "name": "SEBBirb79610nM_SEBDMSO",
         "text": [
          "P15-002",
          "P15-004",
          "P15-005",
          "P15-020",
          "P15-017",
          "P15-018",
          "P15-012",
          "P15-025",
          "P15-030",
          "P15-023",
          "P15-035",
          "P15-041",
          "P15-058",
          "P15-044",
          "P15-040",
          "P15-057",
          "P15-061",
          "P15-065",
          "P15-067",
          "P15-073",
          "P16-001",
          "P16-002",
          "P16-003",
          "P16-004",
          "P16-005"
         ],
         "type": "scatter",
         "x": [
          15.865,
          3.105,
          5.550000000000001,
          36.760000000000005,
          28.98,
          299.11,
          13.295,
          38.39,
          8.030000000000001,
          77.14,
          10.9,
          5.695,
          4.46,
          20.869999999999997,
          12.59,
          10.255,
          1.77,
          5.6850000000000005,
          14.19,
          17.2,
          11.44,
          9.445,
          1.38,
          29.57,
          15.8
         ],
         "y": [
          -34.857,
          269.082,
          -16.757000000000005,
          -9.099999999999994,
          -19.650999999999996,
          -27.445999999999998,
          -21.549000000000007,
          -34.513999999999996,
          -38.792,
          -13.099999999999994,
          -38.716,
          -49.429,
          13.340999999999994,
          -5.798000000000002,
          -18.823999999999998,
          -20.477999999999994,
          -3.3900000000000006,
          4.748999999999995,
          -12.754999999999995,
          -17.5,
          24.126000000000005,
          -30.174999999999997,
          -4.709999999999994,
          -27.037999999999997,
          23.132999999999996
         ]
        },
        {
         "mode": "markers",
         "name": "SEB5ASA_SEB",
         "text": [
          "P15-002",
          "P15-004",
          "P15-005",
          "P15-020",
          "P15-017",
          "P15-018",
          "P15-012",
          "P15-025",
          "P15-030",
          "P15-023",
          "P15-035",
          "P15-041",
          "P15-058",
          "P15-044",
          "P15-040",
          "P15-057",
          "P15-061",
          "P15-065",
          "P15-067",
          "P15-073",
          "P16-001",
          "P16-002",
          "P16-003",
          "P16-004",
          "P16-005"
         ],
         "type": "scatter",
         "x": [
          15.815000000000001,
          8.805000000000001,
          2.88,
          60,
          19.854999999999997,
          170.16,
          78.28999999999999,
          29.095,
          9.22,
          34.13,
          8.629999999999999,
          6.72,
          7.34,
          13.175,
          11.614999999999998,
          13.149999999999999,
          2.575,
          5.665,
          13.485,
          17.32,
          10.77,
          8.415,
          3.29,
          10.945,
          24.035
         ],
         "y": [
          -9.611000000000004,
          -44.974,
          1.0420000000000016,
          10.841999999999999,
          16.595,
          244.99900000000002,
          -40.765,
          13.834000000000003,
          18.384,
          73.14699999999999,
          -12.513999999999996,
          10.564999999999998,
          -49.523,
          -6.072000000000003,
          44.59800000000001,
          -8.516999999999996,
          -5.631,
          46.602000000000004,
          -9.418000000000006,
          93.707,
          -2.5529999999999973,
          19.489000000000004,
          -30.851,
          170.397,
          -2.7879999999999967
         ]
        }
       ],
       "layout": {
        "template": {
         "data": {
          "bar": [
           {
            "error_x": {
             "color": "#2a3f5f"
            },
            "error_y": {
             "color": "#2a3f5f"
            },
            "marker": {
             "line": {
              "color": "#E5ECF6",
              "width": 0.5
             }
            },
            "type": "bar"
           }
          ],
          "barpolar": [
           {
            "marker": {
             "line": {
              "color": "#E5ECF6",
              "width": 0.5
             }
            },
            "type": "barpolar"
           }
          ],
          "carpet": [
           {
            "aaxis": {
             "endlinecolor": "#2a3f5f",
             "gridcolor": "white",
             "linecolor": "white",
             "minorgridcolor": "white",
             "startlinecolor": "#2a3f5f"
            },
            "baxis": {
             "endlinecolor": "#2a3f5f",
             "gridcolor": "white",
             "linecolor": "white",
             "minorgridcolor": "white",
             "startlinecolor": "#2a3f5f"
            },
            "type": "carpet"
           }
          ],
          "choropleth": [
           {
            "colorbar": {
             "outlinewidth": 0,
             "ticks": ""
            },
            "type": "choropleth"
           }
          ],
          "contour": [
           {
            "colorbar": {
             "outlinewidth": 0,
             "ticks": ""
            },
            "colorscale": [
             [
              0,
              "#0d0887"
             ],
             [
              0.1111111111111111,
              "#46039f"
             ],
             [
              0.2222222222222222,
              "#7201a8"
             ],
             [
              0.3333333333333333,
              "#9c179e"
             ],
             [
              0.4444444444444444,
              "#bd3786"
             ],
             [
              0.5555555555555556,
              "#d8576b"
             ],
             [
              0.6666666666666666,
              "#ed7953"
             ],
             [
              0.7777777777777778,
              "#fb9f3a"
             ],
             [
              0.8888888888888888,
              "#fdca26"
             ],
             [
              1,
              "#f0f921"
             ]
            ],
            "type": "contour"
           }
          ],
          "contourcarpet": [
           {
            "colorbar": {
             "outlinewidth": 0,
             "ticks": ""
            },
            "type": "contourcarpet"
           }
          ],
          "heatmap": [
           {
            "colorbar": {
             "outlinewidth": 0,
             "ticks": ""
            },
            "colorscale": [
             [
              0,
              "#0d0887"
             ],
             [
              0.1111111111111111,
              "#46039f"
             ],
             [
              0.2222222222222222,
              "#7201a8"
             ],
             [
              0.3333333333333333,
              "#9c179e"
             ],
             [
              0.4444444444444444,
              "#bd3786"
             ],
             [
              0.5555555555555556,
              "#d8576b"
             ],
             [
              0.6666666666666666,
              "#ed7953"
             ],
             [
              0.7777777777777778,
              "#fb9f3a"
             ],
             [
              0.8888888888888888,
              "#fdca26"
             ],
             [
              1,
              "#f0f921"
             ]
            ],
            "type": "heatmap"
           }
          ],
          "heatmapgl": [
           {
            "colorbar": {
             "outlinewidth": 0,
             "ticks": ""
            },
            "colorscale": [
             [
              0,
              "#0d0887"
             ],
             [
              0.1111111111111111,
              "#46039f"
             ],
             [
              0.2222222222222222,
              "#7201a8"
             ],
             [
              0.3333333333333333,
              "#9c179e"
             ],
             [
              0.4444444444444444,
              "#bd3786"
             ],
             [
              0.5555555555555556,
              "#d8576b"
             ],
             [
              0.6666666666666666,
              "#ed7953"
             ],
             [
              0.7777777777777778,
              "#fb9f3a"
             ],
             [
              0.8888888888888888,
              "#fdca26"
             ],
             [
              1,
              "#f0f921"
             ]
            ],
            "type": "heatmapgl"
           }
          ],
          "histogram": [
           {
            "marker": {
             "colorbar": {
              "outlinewidth": 0,
              "ticks": ""
             }
            },
            "type": "histogram"
           }
          ],
          "histogram2d": [
           {
            "colorbar": {
             "outlinewidth": 0,
             "ticks": ""
            },
            "colorscale": [
             [
              0,
              "#0d0887"
             ],
             [
              0.1111111111111111,
              "#46039f"
             ],
             [
              0.2222222222222222,
              "#7201a8"
             ],
             [
              0.3333333333333333,
              "#9c179e"
             ],
             [
              0.4444444444444444,
              "#bd3786"
             ],
             [
              0.5555555555555556,
              "#d8576b"
             ],
             [
              0.6666666666666666,
              "#ed7953"
             ],
             [
              0.7777777777777778,
              "#fb9f3a"
             ],
             [
              0.8888888888888888,
              "#fdca26"
             ],
             [
              1,
              "#f0f921"
             ]
            ],
            "type": "histogram2d"
           }
          ],
          "histogram2dcontour": [
           {
            "colorbar": {
             "outlinewidth": 0,
             "ticks": ""
            },
            "colorscale": [
             [
              0,
              "#0d0887"
             ],
             [
              0.1111111111111111,
              "#46039f"
             ],
             [
              0.2222222222222222,
              "#7201a8"
             ],
             [
              0.3333333333333333,
              "#9c179e"
             ],
             [
              0.4444444444444444,
              "#bd3786"
             ],
             [
              0.5555555555555556,
              "#d8576b"
             ],
             [
              0.6666666666666666,
              "#ed7953"
             ],
             [
              0.7777777777777778,
              "#fb9f3a"
             ],
             [
              0.8888888888888888,
              "#fdca26"
             ],
             [
              1,
              "#f0f921"
             ]
            ],
            "type": "histogram2dcontour"
           }
          ],
          "mesh3d": [
           {
            "colorbar": {
             "outlinewidth": 0,
             "ticks": ""
            },
            "type": "mesh3d"
           }
          ],
          "parcoords": [
           {
            "line": {
             "colorbar": {
              "outlinewidth": 0,
              "ticks": ""
             }
            },
            "type": "parcoords"
           }
          ],
          "scatter": [
           {
            "marker": {
             "colorbar": {
              "outlinewidth": 0,
              "ticks": ""
             }
            },
            "type": "scatter"
           }
          ],
          "scatter3d": [
           {
            "line": {
             "colorbar": {
              "outlinewidth": 0,
              "ticks": ""
             }
            },
            "marker": {
             "colorbar": {
              "outlinewidth": 0,
              "ticks": ""
             }
            },
            "type": "scatter3d"
           }
          ],
          "scattercarpet": [
           {
            "marker": {
             "colorbar": {
              "outlinewidth": 0,
              "ticks": ""
             }
            },
            "type": "scattercarpet"
           }
          ],
          "scattergeo": [
           {
            "marker": {
             "colorbar": {
              "outlinewidth": 0,
              "ticks": ""
             }
            },
            "type": "scattergeo"
           }
          ],
          "scattergl": [
           {
            "marker": {
             "colorbar": {
              "outlinewidth": 0,
              "ticks": ""
             }
            },
            "type": "scattergl"
           }
          ],
          "scattermapbox": [
           {
            "marker": {
             "colorbar": {
              "outlinewidth": 0,
              "ticks": ""
             }
            },
            "type": "scattermapbox"
           }
          ],
          "scatterpolar": [
           {
            "marker": {
             "colorbar": {
              "outlinewidth": 0,
              "ticks": ""
             }
            },
            "type": "scatterpolar"
           }
          ],
          "scatterpolargl": [
           {
            "marker": {
             "colorbar": {
              "outlinewidth": 0,
              "ticks": ""
             }
            },
            "type": "scatterpolargl"
           }
          ],
          "scatterternary": [
           {
            "marker": {
             "colorbar": {
              "outlinewidth": 0,
              "ticks": ""
             }
            },
            "type": "scatterternary"
           }
          ],
          "surface": [
           {
            "colorbar": {
             "outlinewidth": 0,
             "ticks": ""
            },
            "colorscale": [
             [
              0,
              "#0d0887"
             ],
             [
              0.1111111111111111,
              "#46039f"
             ],
             [
              0.2222222222222222,
              "#7201a8"
             ],
             [
              0.3333333333333333,
              "#9c179e"
             ],
             [
              0.4444444444444444,
              "#bd3786"
             ],
             [
              0.5555555555555556,
              "#d8576b"
             ],
             [
              0.6666666666666666,
              "#ed7953"
             ],
             [
              0.7777777777777778,
              "#fb9f3a"
             ],
             [
              0.8888888888888888,
              "#fdca26"
             ],
             [
              1,
              "#f0f921"
             ]
            ],
            "type": "surface"
           }
          ],
          "table": [
           {
            "cells": {
             "fill": {
              "color": "#EBF0F8"
             },
             "line": {
              "color": "white"
             }
            },
            "header": {
             "fill": {
              "color": "#C8D4E3"
             },
             "line": {
              "color": "white"
             }
            },
            "type": "table"
           }
          ]
         },
         "layout": {
          "annotationdefaults": {
           "arrowcolor": "#2a3f5f",
           "arrowhead": 0,
           "arrowwidth": 1
          },
          "colorscale": {
           "diverging": [
            [
             0,
             "#8e0152"
            ],
            [
             0.1,
             "#c51b7d"
            ],
            [
             0.2,
             "#de77ae"
            ],
            [
             0.3,
             "#f1b6da"
            ],
            [
             0.4,
             "#fde0ef"
            ],
            [
             0.5,
             "#f7f7f7"
            ],
            [
             0.6,
             "#e6f5d0"
            ],
            [
             0.7,
             "#b8e186"
            ],
            [
             0.8,
             "#7fbc41"
            ],
            [
             0.9,
             "#4d9221"
            ],
            [
             1,
             "#276419"
            ]
           ],
           "sequential": [
            [
             0,
             "#0d0887"
            ],
            [
             0.1111111111111111,
             "#46039f"
            ],
            [
             0.2222222222222222,
             "#7201a8"
            ],
            [
             0.3333333333333333,
             "#9c179e"
            ],
            [
             0.4444444444444444,
             "#bd3786"
            ],
            [
             0.5555555555555556,
             "#d8576b"
            ],
            [
             0.6666666666666666,
             "#ed7953"
            ],
            [
             0.7777777777777778,
             "#fb9f3a"
            ],
            [
             0.8888888888888888,
             "#fdca26"
            ],
            [
             1,
             "#f0f921"
            ]
           ],
           "sequentialminus": [
            [
             0,
             "#0d0887"
            ],
            [
             0.1111111111111111,
             "#46039f"
            ],
            [
             0.2222222222222222,
             "#7201a8"
            ],
            [
             0.3333333333333333,
             "#9c179e"
            ],
            [
             0.4444444444444444,
             "#bd3786"
            ],
            [
             0.5555555555555556,
             "#d8576b"
            ],
            [
             0.6666666666666666,
             "#ed7953"
            ],
            [
             0.7777777777777778,
             "#fb9f3a"
            ],
            [
             0.8888888888888888,
             "#fdca26"
            ],
            [
             1,
             "#f0f921"
            ]
           ]
          },
          "colorway": [
           "#636efa",
           "#EF553B",
           "#00cc96",
           "#ab63fa",
           "#FFA15A",
           "#19d3f3",
           "#FF6692",
           "#B6E880",
           "#FF97FF",
           "#FECB52"
          ],
          "font": {
           "color": "#2a3f5f"
          },
          "geo": {
           "bgcolor": "white",
           "lakecolor": "white",
           "landcolor": "#E5ECF6",
           "showlakes": true,
           "showland": true,
           "subunitcolor": "white"
          },
          "hoverlabel": {
           "align": "left"
          },
          "hovermode": "closest",
          "mapbox": {
           "style": "light"
          },
          "paper_bgcolor": "white",
          "plot_bgcolor": "#E5ECF6",
          "polar": {
           "angularaxis": {
            "gridcolor": "white",
            "linecolor": "white",
            "ticks": ""
           },
           "bgcolor": "#E5ECF6",
           "radialaxis": {
            "gridcolor": "white",
            "linecolor": "white",
            "ticks": ""
           }
          },
          "scene": {
           "xaxis": {
            "backgroundcolor": "#E5ECF6",
            "gridcolor": "white",
            "gridwidth": 2,
            "linecolor": "white",
            "showbackground": true,
            "ticks": "",
            "zerolinecolor": "white"
           },
           "yaxis": {
            "backgroundcolor": "#E5ECF6",
            "gridcolor": "white",
            "gridwidth": 2,
            "linecolor": "white",
            "showbackground": true,
            "ticks": "",
            "zerolinecolor": "white"
           },
           "zaxis": {
            "backgroundcolor": "#E5ECF6",
            "gridcolor": "white",
            "gridwidth": 2,
            "linecolor": "white",
            "showbackground": true,
            "ticks": "",
            "zerolinecolor": "white"
           }
          },
          "shapedefaults": {
           "line": {
            "color": "#2a3f5f"
           }
          },
          "ternary": {
           "aaxis": {
            "gridcolor": "white",
            "linecolor": "white",
            "ticks": ""
           },
           "baxis": {
            "gridcolor": "white",
            "linecolor": "white",
            "ticks": ""
           },
           "bgcolor": "#E5ECF6",
           "caxis": {
            "gridcolor": "white",
            "linecolor": "white",
            "ticks": ""
           }
          },
          "title": {
           "x": 0.05
          },
          "xaxis": {
           "automargin": true,
           "gridcolor": "white",
           "linecolor": "white",
           "ticks": "",
           "zerolinecolor": "white",
           "zerolinewidth": 2
          },
          "yaxis": {
           "automargin": true,
           "gridcolor": "white",
           "linecolor": "white",
           "ticks": "",
           "zerolinecolor": "white",
           "zerolinewidth": 2
          }
         }
        }
       }
      },
      "text/html": [
       "<div>\n",
       "        \n",
       "        \n",
       "            <div id=\"d658ef6a-d271-4802-9484-43a94732315a\" class=\"plotly-graph-div\" style=\"height:525px; width:100%;\"></div>\n",
       "            <script type=\"text/javascript\">\n",
       "                require([\"plotly\"], function(Plotly) {\n",
       "                    window.PLOTLYENV=window.PLOTLYENV || {};\n",
       "                    \n",
       "                if (document.getElementById(\"d658ef6a-d271-4802-9484-43a94732315a\")) {\n",
       "                    Plotly.newPlot(\n",
       "                        'd658ef6a-d271-4802-9484-43a94732315a',\n",
       "                        [{\"mode\": \"markers\", \"name\": \"SEBPred1uM_SEBDMSO\", \"text\": [\"P15-002\", \"P15-004\", \"P15-005\", \"P15-020\", \"P15-017\", \"P15-018\", \"P15-012\", \"P15-025\", \"P15-030\", \"P15-023\", \"P15-035\", \"P15-041\", \"P15-058\", \"P15-044\", \"P15-040\", \"P15-057\", \"P15-061\", \"P15-065\", \"P15-067\", \"P15-073\", \"P16-001\", \"P16-002\", \"P16-003\", \"P16-004\", \"P16-005\"], \"type\": \"scatter\", \"x\": [15.865, 3.105, 5.550000000000001, 36.760000000000005, 28.98, 299.11, 13.295, 38.39, 8.030000000000001, 77.14, 10.9, 5.695, 4.46, 20.869999999999997, 12.59, 10.255, 1.77, 5.6850000000000005, 14.19, 17.2, 11.44, 9.445, 1.38, 29.57, 15.8], \"y\": [-23.385000000000005, 36.876000000000005, -10.090000000000003, 22.197999999999993, -30.349000000000004, -31.408, 193.90699999999998, -27.455, -15.441999999999993, -47.167, -45.642, -35.995999999999995, -12.444000000000003, -50.767, -26.926000000000002, -10.483000000000004, 32.203, -8.266999999999996, -26.674000000000007, -63.198, -2.272999999999996, -28.691999999999993, 46.01400000000001, -36.253, -11.391999999999996]}, {\"mode\": \"markers\", \"name\": \"SEBPred100nM_SEBDMSO\", \"text\": [\"P15-002\", \"P15-004\", \"P15-005\", \"P15-020\", \"P15-017\", \"P15-018\", \"P15-012\", \"P15-025\", \"P15-030\", \"P15-023\", \"P15-035\", \"P15-041\", \"P15-058\", \"P15-044\", \"P15-040\", \"P15-057\", \"P15-061\", \"P15-065\", \"P15-067\", \"P15-073\", \"P16-001\", \"P16-002\", \"P16-003\", \"P16-004\", \"P16-005\"], \"type\": \"scatter\", \"x\": [15.865, 3.105, 5.550000000000001, 36.760000000000005, 28.98, 299.11, 13.295, 38.39, 8.030000000000001, 77.14, 10.9, 5.695, 4.46, 20.869999999999997, 12.59, 10.255, 1.77, 5.6850000000000005, 14.19, 17.2, 11.44, 9.445, 1.38, 29.57, 15.8], \"y\": [0.3469999999999942, -38.164, -1.4410000000000025, -4.516000000000005, -19.634, -35.70099999999999, -20.083, -43.058, -19.863, -4.5049999999999955, 1.2390000000000043, -17.822999999999993, -19.619, -29.683999999999997, 5.878, 5.266000000000005, -0.8469999999999942, 36.06, 3.277000000000001, -30.64, 2.3599999999999994, -30.968999999999994, -30.796999999999997, -88.941, -24.494]}, {\"mode\": \"markers\", \"name\": \"SEBBirb796100nM_SEBDMSO\", \"text\": [\"P15-002\", \"P15-004\", \"P15-005\", \"P15-020\", \"P15-017\", \"P15-018\", \"P15-012\", \"P15-025\", \"P15-030\", \"P15-023\", \"P15-035\", \"P15-041\", \"P15-058\", \"P15-044\", \"P15-040\", \"P15-057\", \"P15-061\", \"P15-065\", \"P15-067\", \"P15-073\", \"P16-001\", \"P16-002\", \"P16-003\", \"P16-004\", \"P16-005\"], \"type\": \"scatter\", \"x\": [15.865, 3.105, 5.550000000000001, 36.760000000000005, 28.98, 299.11, 13.295, 38.39, 8.030000000000001, 77.14, 10.9, 5.695, 4.46, 20.869999999999997, 12.59, 10.255, 1.77, 5.6850000000000005, 14.19, 17.2, 11.44, 9.445, 1.38, 29.57, 15.8], \"y\": [-43.807, -85.82900000000001, -15.585999999999999, -17.084000000000003, -22.101, -39.073, -34.29900000000001, -51.146, -47.26, -28.745999999999995, -33.532, -24.495000000000005, -27.018, -45.664, -37.53, -17.552000000000007, -7.061999999999998, -13.896, -56.061, -32.616, -25.656000000000006, -31.921999999999997, -5.435000000000002, -90.125, -10.411000000000001]}, {\"mode\": \"markers\", \"name\": \"SEBBirb79610nM_SEBDMSO\", \"text\": [\"P15-002\", \"P15-004\", \"P15-005\", \"P15-020\", \"P15-017\", \"P15-018\", \"P15-012\", \"P15-025\", \"P15-030\", \"P15-023\", \"P15-035\", \"P15-041\", \"P15-058\", \"P15-044\", \"P15-040\", \"P15-057\", \"P15-061\", \"P15-065\", \"P15-067\", \"P15-073\", \"P16-001\", \"P16-002\", \"P16-003\", \"P16-004\", \"P16-005\"], \"type\": \"scatter\", \"x\": [15.865, 3.105, 5.550000000000001, 36.760000000000005, 28.98, 299.11, 13.295, 38.39, 8.030000000000001, 77.14, 10.9, 5.695, 4.46, 20.869999999999997, 12.59, 10.255, 1.77, 5.6850000000000005, 14.19, 17.2, 11.44, 9.445, 1.38, 29.57, 15.8], \"y\": [-34.857, 269.082, -16.757000000000005, -9.099999999999994, -19.650999999999996, -27.445999999999998, -21.549000000000007, -34.513999999999996, -38.792, -13.099999999999994, -38.716, -49.429, 13.340999999999994, -5.798000000000002, -18.823999999999998, -20.477999999999994, -3.3900000000000006, 4.748999999999995, -12.754999999999995, -17.5, 24.126000000000005, -30.174999999999997, -4.709999999999994, -27.037999999999997, 23.132999999999996]}, {\"mode\": \"markers\", \"name\": \"SEB5ASA_SEB\", \"text\": [\"P15-002\", \"P15-004\", \"P15-005\", \"P15-020\", \"P15-017\", \"P15-018\", \"P15-012\", \"P15-025\", \"P15-030\", \"P15-023\", \"P15-035\", \"P15-041\", \"P15-058\", \"P15-044\", \"P15-040\", \"P15-057\", \"P15-061\", \"P15-065\", \"P15-067\", \"P15-073\", \"P16-001\", \"P16-002\", \"P16-003\", \"P16-004\", \"P16-005\"], \"type\": \"scatter\", \"x\": [15.815000000000001, 8.805000000000001, 2.88, 60.0, 19.854999999999997, 170.16, 78.28999999999999, 29.095, 9.22, 34.13, 8.629999999999999, 6.72, 7.34, 13.175, 11.614999999999998, 13.149999999999999, 2.575, 5.665, 13.485, 17.32, 10.77, 8.415, 3.29, 10.945, 24.035], \"y\": [-9.611000000000004, -44.974, 1.0420000000000016, 10.841999999999999, 16.595, 244.99900000000002, -40.765, 13.834000000000003, 18.384, 73.14699999999999, -12.513999999999996, 10.564999999999998, -49.523, -6.072000000000003, 44.59800000000001, -8.516999999999996, -5.631, 46.602000000000004, -9.418000000000006, 93.707, -2.5529999999999973, 19.489000000000004, -30.851, 170.397, -2.7879999999999967]}],\n",
       "                        {\"template\": {\"data\": {\"bar\": [{\"error_x\": {\"color\": \"#2a3f5f\"}, \"error_y\": {\"color\": \"#2a3f5f\"}, \"marker\": {\"line\": {\"color\": \"#E5ECF6\", \"width\": 0.5}}, \"type\": \"bar\"}], \"barpolar\": [{\"marker\": {\"line\": {\"color\": \"#E5ECF6\", \"width\": 0.5}}, \"type\": \"barpolar\"}], \"carpet\": [{\"aaxis\": {\"endlinecolor\": \"#2a3f5f\", \"gridcolor\": \"white\", \"linecolor\": \"white\", \"minorgridcolor\": \"white\", \"startlinecolor\": \"#2a3f5f\"}, \"baxis\": {\"endlinecolor\": \"#2a3f5f\", \"gridcolor\": \"white\", \"linecolor\": \"white\", \"minorgridcolor\": \"white\", \"startlinecolor\": \"#2a3f5f\"}, \"type\": \"carpet\"}], \"choropleth\": [{\"colorbar\": {\"outlinewidth\": 0, \"ticks\": \"\"}, \"type\": \"choropleth\"}], \"contour\": [{\"colorbar\": {\"outlinewidth\": 0, \"ticks\": \"\"}, \"colorscale\": [[0.0, \"#0d0887\"], [0.1111111111111111, \"#46039f\"], [0.2222222222222222, \"#7201a8\"], [0.3333333333333333, \"#9c179e\"], [0.4444444444444444, \"#bd3786\"], [0.5555555555555556, \"#d8576b\"], [0.6666666666666666, \"#ed7953\"], [0.7777777777777778, \"#fb9f3a\"], [0.8888888888888888, \"#fdca26\"], [1.0, \"#f0f921\"]], \"type\": \"contour\"}], \"contourcarpet\": [{\"colorbar\": {\"outlinewidth\": 0, \"ticks\": \"\"}, \"type\": \"contourcarpet\"}], \"heatmap\": [{\"colorbar\": {\"outlinewidth\": 0, \"ticks\": \"\"}, \"colorscale\": [[0.0, \"#0d0887\"], [0.1111111111111111, \"#46039f\"], [0.2222222222222222, \"#7201a8\"], [0.3333333333333333, \"#9c179e\"], [0.4444444444444444, \"#bd3786\"], [0.5555555555555556, \"#d8576b\"], [0.6666666666666666, \"#ed7953\"], [0.7777777777777778, \"#fb9f3a\"], [0.8888888888888888, \"#fdca26\"], [1.0, \"#f0f921\"]], \"type\": \"heatmap\"}], \"heatmapgl\": [{\"colorbar\": {\"outlinewidth\": 0, \"ticks\": \"\"}, \"colorscale\": [[0.0, \"#0d0887\"], [0.1111111111111111, \"#46039f\"], [0.2222222222222222, \"#7201a8\"], [0.3333333333333333, \"#9c179e\"], [0.4444444444444444, \"#bd3786\"], [0.5555555555555556, \"#d8576b\"], [0.6666666666666666, \"#ed7953\"], [0.7777777777777778, \"#fb9f3a\"], [0.8888888888888888, \"#fdca26\"], [1.0, \"#f0f921\"]], \"type\": \"heatmapgl\"}], \"histogram\": [{\"marker\": {\"colorbar\": {\"outlinewidth\": 0, \"ticks\": \"\"}}, \"type\": \"histogram\"}], \"histogram2d\": [{\"colorbar\": {\"outlinewidth\": 0, \"ticks\": \"\"}, \"colorscale\": [[0.0, \"#0d0887\"], [0.1111111111111111, \"#46039f\"], [0.2222222222222222, \"#7201a8\"], [0.3333333333333333, \"#9c179e\"], [0.4444444444444444, \"#bd3786\"], [0.5555555555555556, \"#d8576b\"], [0.6666666666666666, \"#ed7953\"], [0.7777777777777778, \"#fb9f3a\"], [0.8888888888888888, \"#fdca26\"], [1.0, \"#f0f921\"]], \"type\": \"histogram2d\"}], \"histogram2dcontour\": [{\"colorbar\": {\"outlinewidth\": 0, \"ticks\": \"\"}, \"colorscale\": [[0.0, \"#0d0887\"], [0.1111111111111111, \"#46039f\"], [0.2222222222222222, \"#7201a8\"], [0.3333333333333333, \"#9c179e\"], [0.4444444444444444, \"#bd3786\"], [0.5555555555555556, \"#d8576b\"], [0.6666666666666666, \"#ed7953\"], [0.7777777777777778, \"#fb9f3a\"], [0.8888888888888888, \"#fdca26\"], [1.0, \"#f0f921\"]], \"type\": \"histogram2dcontour\"}], \"mesh3d\": [{\"colorbar\": {\"outlinewidth\": 0, \"ticks\": \"\"}, \"type\": \"mesh3d\"}], \"parcoords\": [{\"line\": {\"colorbar\": {\"outlinewidth\": 0, \"ticks\": \"\"}}, \"type\": \"parcoords\"}], \"scatter\": [{\"marker\": {\"colorbar\": {\"outlinewidth\": 0, \"ticks\": \"\"}}, \"type\": \"scatter\"}], \"scatter3d\": [{\"line\": {\"colorbar\": {\"outlinewidth\": 0, \"ticks\": \"\"}}, \"marker\": {\"colorbar\": {\"outlinewidth\": 0, \"ticks\": \"\"}}, \"type\": \"scatter3d\"}], \"scattercarpet\": [{\"marker\": {\"colorbar\": {\"outlinewidth\": 0, \"ticks\": \"\"}}, \"type\": \"scattercarpet\"}], \"scattergeo\": [{\"marker\": {\"colorbar\": {\"outlinewidth\": 0, \"ticks\": \"\"}}, \"type\": \"scattergeo\"}], \"scattergl\": [{\"marker\": {\"colorbar\": {\"outlinewidth\": 0, \"ticks\": \"\"}}, \"type\": \"scattergl\"}], \"scattermapbox\": [{\"marker\": {\"colorbar\": {\"outlinewidth\": 0, \"ticks\": \"\"}}, \"type\": \"scattermapbox\"}], \"scatterpolar\": [{\"marker\": {\"colorbar\": {\"outlinewidth\": 0, \"ticks\": \"\"}}, \"type\": \"scatterpolar\"}], \"scatterpolargl\": [{\"marker\": {\"colorbar\": {\"outlinewidth\": 0, \"ticks\": \"\"}}, \"type\": \"scatterpolargl\"}], \"scatterternary\": [{\"marker\": {\"colorbar\": {\"outlinewidth\": 0, \"ticks\": \"\"}}, \"type\": \"scatterternary\"}], \"surface\": [{\"colorbar\": {\"outlinewidth\": 0, \"ticks\": \"\"}, \"colorscale\": [[0.0, \"#0d0887\"], [0.1111111111111111, \"#46039f\"], [0.2222222222222222, \"#7201a8\"], [0.3333333333333333, \"#9c179e\"], [0.4444444444444444, \"#bd3786\"], [0.5555555555555556, \"#d8576b\"], [0.6666666666666666, \"#ed7953\"], [0.7777777777777778, \"#fb9f3a\"], [0.8888888888888888, \"#fdca26\"], [1.0, \"#f0f921\"]], \"type\": \"surface\"}], \"table\": [{\"cells\": {\"fill\": {\"color\": \"#EBF0F8\"}, \"line\": {\"color\": \"white\"}}, \"header\": {\"fill\": {\"color\": \"#C8D4E3\"}, \"line\": {\"color\": \"white\"}}, \"type\": \"table\"}]}, \"layout\": {\"annotationdefaults\": {\"arrowcolor\": \"#2a3f5f\", \"arrowhead\": 0, \"arrowwidth\": 1}, \"colorscale\": {\"diverging\": [[0, \"#8e0152\"], [0.1, \"#c51b7d\"], [0.2, \"#de77ae\"], [0.3, \"#f1b6da\"], [0.4, \"#fde0ef\"], [0.5, \"#f7f7f7\"], [0.6, \"#e6f5d0\"], [0.7, \"#b8e186\"], [0.8, \"#7fbc41\"], [0.9, \"#4d9221\"], [1, \"#276419\"]], \"sequential\": [[0.0, \"#0d0887\"], [0.1111111111111111, \"#46039f\"], [0.2222222222222222, \"#7201a8\"], [0.3333333333333333, \"#9c179e\"], [0.4444444444444444, \"#bd3786\"], [0.5555555555555556, \"#d8576b\"], [0.6666666666666666, \"#ed7953\"], [0.7777777777777778, \"#fb9f3a\"], [0.8888888888888888, \"#fdca26\"], [1.0, \"#f0f921\"]], \"sequentialminus\": [[0.0, \"#0d0887\"], [0.1111111111111111, \"#46039f\"], [0.2222222222222222, \"#7201a8\"], [0.3333333333333333, \"#9c179e\"], [0.4444444444444444, \"#bd3786\"], [0.5555555555555556, \"#d8576b\"], [0.6666666666666666, \"#ed7953\"], [0.7777777777777778, \"#fb9f3a\"], [0.8888888888888888, \"#fdca26\"], [1.0, \"#f0f921\"]]}, \"colorway\": [\"#636efa\", \"#EF553B\", \"#00cc96\", \"#ab63fa\", \"#FFA15A\", \"#19d3f3\", \"#FF6692\", \"#B6E880\", \"#FF97FF\", \"#FECB52\"], \"font\": {\"color\": \"#2a3f5f\"}, \"geo\": {\"bgcolor\": \"white\", \"lakecolor\": \"white\", \"landcolor\": \"#E5ECF6\", \"showlakes\": true, \"showland\": true, \"subunitcolor\": \"white\"}, \"hoverlabel\": {\"align\": \"left\"}, \"hovermode\": \"closest\", \"mapbox\": {\"style\": \"light\"}, \"paper_bgcolor\": \"white\", \"plot_bgcolor\": \"#E5ECF6\", \"polar\": {\"angularaxis\": {\"gridcolor\": \"white\", \"linecolor\": \"white\", \"ticks\": \"\"}, \"bgcolor\": \"#E5ECF6\", \"radialaxis\": {\"gridcolor\": \"white\", \"linecolor\": \"white\", \"ticks\": \"\"}}, \"scene\": {\"xaxis\": {\"backgroundcolor\": \"#E5ECF6\", \"gridcolor\": \"white\", \"gridwidth\": 2, \"linecolor\": \"white\", \"showbackground\": true, \"ticks\": \"\", \"zerolinecolor\": \"white\"}, \"yaxis\": {\"backgroundcolor\": \"#E5ECF6\", \"gridcolor\": \"white\", \"gridwidth\": 2, \"linecolor\": \"white\", \"showbackground\": true, \"ticks\": \"\", \"zerolinecolor\": \"white\"}, \"zaxis\": {\"backgroundcolor\": \"#E5ECF6\", \"gridcolor\": \"white\", \"gridwidth\": 2, \"linecolor\": \"white\", \"showbackground\": true, \"ticks\": \"\", \"zerolinecolor\": \"white\"}}, \"shapedefaults\": {\"line\": {\"color\": \"#2a3f5f\"}}, \"ternary\": {\"aaxis\": {\"gridcolor\": \"white\", \"linecolor\": \"white\", \"ticks\": \"\"}, \"baxis\": {\"gridcolor\": \"white\", \"linecolor\": \"white\", \"ticks\": \"\"}, \"bgcolor\": \"#E5ECF6\", \"caxis\": {\"gridcolor\": \"white\", \"linecolor\": \"white\", \"ticks\": \"\"}}, \"title\": {\"x\": 0.05}, \"xaxis\": {\"automargin\": true, \"gridcolor\": \"white\", \"linecolor\": \"white\", \"ticks\": \"\", \"zerolinecolor\": \"white\", \"zerolinewidth\": 2}, \"yaxis\": {\"automargin\": true, \"gridcolor\": \"white\", \"linecolor\": \"white\", \"ticks\": \"\", \"zerolinecolor\": \"white\", \"zerolinewidth\": 2}}}},\n",
       "                        {\"responsive\": true}\n",
       "                    ).then(function(){\n",
       "                            \n",
       "var gd = document.getElementById('d658ef6a-d271-4802-9484-43a94732315a');\n",
       "var x = new MutationObserver(function (mutations, observer) {{\n",
       "        var display = window.getComputedStyle(gd).display;\n",
       "        if (!display || display === 'none') {{\n",
       "            console.log([gd, 'removed!']);\n",
       "            Plotly.purge(gd);\n",
       "            observer.disconnect();\n",
       "        }}\n",
       "}});\n",
       "\n",
       "// Listen for the removal of the full notebook cells\n",
       "var notebookContainer = gd.closest('#notebook-container');\n",
       "if (notebookContainer) {{\n",
       "    x.observe(notebookContainer, {childList: true});\n",
       "}}\n",
       "\n",
       "// Listen for the clearing of the current output cell\n",
       "var outputEl = gd.closest('.output');\n",
       "if (outputEl) {{\n",
       "    x.observe(outputEl, {childList: true});\n",
       "}}\n",
       "\n",
       "                        })\n",
       "                };\n",
       "                });\n",
       "            </script>\n",
       "        </div>"
      ]
     },
     "metadata": {},
     "output_type": "display_data"
    }
   ],
   "source": [
    "fig=go.Figure()\n",
    "for i in col:\n",
    "    fig.add_trace(go.Scatter(x=tnf_compare['SEBDMSO_mean'],y=tnf_compare[i],\n",
    "                     mode='markers',name=i,\n",
    "                                text=tnf_compare['Donor_ID']))\n",
    "fig.add_trace(go.Scatter(x=tnf_compare['SEB_mean'],y=tnf_compare['SEB5ASA_SEB'],\n",
    "                     mode='markers',name='SEB5ASA_SEB',\n",
    "                                text=tnf_compare['Donor_ID']))\n",
    "fig.show()"
   ]
  },
  {
   "cell_type": "markdown",
   "metadata": {},
   "source": [
    "### Variable selection for Reduction"
   ]
  },
  {
   "cell_type": "code",
   "execution_count": 71,
   "metadata": {},
   "outputs": [
    {
     "name": "stderr",
     "output_type": "stream",
     "text": [
      "C:\\ProgramData\\Anaconda3\\lib\\site-packages\\pandas\\core\\ops\\__init__.py:1115: FutureWarning:\n",
      "\n",
      "elementwise comparison failed; returning scalar instead, but in the future will perform elementwise comparison\n",
      "\n"
     ]
    },
    {
     "data": {
      "application/vnd.jupyter.widget-view+json": {
       "model_id": "08d020ece8a34c65b4f5c97f94d160ec",
       "version_major": 2,
       "version_minor": 0
      },
      "text/plain": [
       "interactive(children=(Dropdown(description='Drug used', options=('SEB5ASA_SEB', 'SEBPred1uM_SEBDMSO', 'SEBPred…"
      ]
     },
     "metadata": {},
     "output_type": "display_data"
    }
   ],
   "source": [
    "# x=(10, 100000, 10))\n",
    "\n",
    "drop_down=widgets.Dropdown(\n",
    "    options=tnf_mean_compare_i_r[['SEB5ASA_SEB', 'SEBPred1uM_SEBDMSO', 'SEBPred100nM_SEBDMSO',\n",
    "       'SEBBirb796100nM_SEBDMSO', 'SEBBirb79610nM_SEBDMSO']],\n",
    "    value='SEB5ASA_SEB',\n",
    "        description='Drug used',\n",
    "    disabled=False\n",
    "     )\n",
    "def patients(column):\n",
    "    #Return the reduction lists based on the column selected\n",
    "    dr=tnf_mean_compare_i_r[tnf_mean_compare_i_r[column]<0][['Donor_ID',column]]\n",
    "    dr[[column+'_abs']]=abs(dr[[column]]) #Get absolute value of the selected column\n",
    "    return dr[['Donor_ID',column+'_abs']]  \n",
    "    \n",
    "interact(patients, column=drop_down);\n",
    "iout=interactive(patients, column=drop_down);\n",
    "\n",
    "# if drop_down.value=='SEB5ASA_SEB':\n",
    "#     dr=tnf_mean_compare_i_r[tnf_mean_compare_i_r['SEB5ASA_SEB']<0][['Donor_ID','SEB5ASA_SEB']]\n",
    "#     dr[['SEB5ASA_SEB'+'_abs']]=abs(dr[['SEB5ASA_SEB']]) #Get absolute value of the selected column\n",
    "#     iout.result=dr[['Donor_ID','SEB5ASA_SEB_abs']]  \n",
    "   "
   ]
  },
  {
   "cell_type": "code",
   "execution_count": 72,
   "metadata": {},
   "outputs": [],
   "source": [
    "import plotly.express as px"
   ]
  },
  {
   "cell_type": "code",
   "execution_count": 73,
   "metadata": {},
   "outputs": [
    {
     "name": "stdout",
     "output_type": "stream",
     "text": [
      "Enter the range you want : 25\n"
     ]
    }
   ],
   "source": [
    "cat=int(input('Enter the range you want : '))"
   ]
  },
  {
   "cell_type": "code",
   "execution_count": 74,
   "metadata": {},
   "outputs": [],
   "source": [
    "def bins_label(bin):    \n",
    "    binlabel=[]\n",
    "    bincount=int(100/bin)\n",
    "    start=0\n",
    "    end=bin\n",
    "    for i in range(bincount):\n",
    "        r=str(start)+'-'+str(end)\n",
    "        binlabel.insert(i, r)\n",
    "        start=start+bin\n",
    "        end=end+bin\n",
    "    return binlabel;"
   ]
  },
  {
   "cell_type": "code",
   "execution_count": 75,
   "metadata": {},
   "outputs": [],
   "source": [
    "def bin_range(bin):\n",
    "    binrange=[]\n",
    "    bincount=int(100/bin)\n",
    "    binvalue=0\n",
    "    for x in range(0,bincount+1):\n",
    "        binrange.insert(x,binvalue)\n",
    "        binvalue=binvalue+bin\n",
    "    return binrange;"
   ]
  },
  {
   "cell_type": "code",
   "execution_count": 76,
   "metadata": {},
   "outputs": [
    {
     "name": "stdout",
     "output_type": "stream",
     "text": [
      "['0-25', '25-50', '50-75', '75-100']\n"
     ]
    }
   ],
   "source": [
    "bins_label=bins_label(cat)\n",
    "print(bins_label)"
   ]
  },
  {
   "cell_type": "code",
   "execution_count": 77,
   "metadata": {},
   "outputs": [
    {
     "name": "stdout",
     "output_type": "stream",
     "text": [
      "[0, 25, 50, 75, 100]\n"
     ]
    }
   ],
   "source": [
    "bins_range=bin_range(cat)\n",
    "print(bins_range)"
   ]
  },
  {
   "cell_type": "code",
   "execution_count": 78,
   "metadata": {},
   "outputs": [
    {
     "data": {
      "text/plain": [
       "Text(0, 0.5, 'No of patients')"
      ]
     },
     "execution_count": 78,
     "metadata": {},
     "output_type": "execute_result"
    },
    {
     "data": {
      "image/png": "[encoded data removed]",
      "text/plain": [
       "<Figure size 432x288 with 1 Axes>"
      ]
     },
     "metadata": {
      "image/png": {
       "height": 289,
       "width": 386
      },
      "needs_background": "light"
     },
     "output_type": "display_data"
    }
   ],
   "source": [
    "r=iout.result\n",
    "cr=r.columns[1]+'_range'\n",
    "cr=cr[0:cr.index('_')]\n",
    "r[cr]=pd.cut(x=r[r.columns[1]], bins=bins_range, labels=bins_label, right=False)\n",
    "rb=r.groupby(cr).size().plot(kind='bar',stacked=True)\n",
    "rb.set_ylabel(\"No of patients\")"
   ]
  },
  {
   "cell_type": "markdown",
   "metadata": {},
   "source": [
    "### Select a group to find the patients"
   ]
  },
  {
   "cell_type": "code",
   "execution_count": 79,
   "metadata": {},
   "outputs": [
    {
     "data": {
      "application/vnd.jupyter.widget-view+json": {
       "model_id": "86643571263140f69de31186dee76d36",
       "version_major": 2,
       "version_minor": 0
      },
      "text/plain": [
       "interactive(children=(Select(description='SEBPred1uM', layout=Layout(width='530px'), options=('0-25', '25-50',…"
      ]
     },
     "metadata": {},
     "output_type": "display_data"
    },
    {
     "data": {
      "text/plain": [
       "<function __main__.patients(column)>"
      ]
     },
     "execution_count": 79,
     "metadata": {},
     "output_type": "execute_result"
    }
   ],
   "source": [
    "drop_style = {'description_width': '450px'}\n",
    "drop_layout = {'width': '530px'}\n",
    "drop_down=widgets.Select(\n",
    "    options=r[cr].unique().sort_values(ascending=True),\n",
    "    value=None,\n",
    "        description=cr,\n",
    "    disabled=False,\n",
    "    style=drop_style,\n",
    "    layout=drop_layout\n",
    "     )\n",
    "\n",
    "def patients(column):\n",
    "    #return tnf_lowest[tnf_lowest.lowest==column][['Donor_ID']].tolist()\n",
    "    return r[r[cr]==column]['Donor_ID'].tolist()\n",
    "    \n",
    "\n",
    "iout_p=interactive(patients, column=drop_down)\n",
    "interact(patients, column=drop_down)"
   ]
  },
  {
   "cell_type": "markdown",
   "metadata": {},
   "source": [
    "### Find matching SNP of the selected patients"
   ]
  },
  {
   "cell_type": "code",
   "execution_count": 81,
   "metadata": {},
   "outputs": [
    {
     "name": "stdout",
     "output_type": "stream",
     "text": [
      "11838  SNPs match\n",
      "Similarity : 31.00 %\n"
     ]
    }
   ],
   "source": [
    "ir=iout_p.result # Get the Donor_ID list based on the selected drug\n",
    "# Read each Donor_ID and find the filename from source based on Donor_ID\n",
    "if len(ir)>1:\n",
    "    try:\n",
    "        plist=[]\n",
    "        for j in ir:     \n",
    "            fnames=vcf_path+str(j)+'.vcf.gz'\n",
    "            plist.append(fnames)\n",
    "#Read each VCF file and convert it to Pandas Dataframe, and append all dataframes as a list\n",
    "        adfrows=0\n",
    "        df_plist=[]\n",
    "        for fname in plist:\n",
    "            df = allel.vcf_to_dataframe(fname, fields=['CHROM','POS','ID','REF','ALT'],alt_number=1)\n",
    "            adfrows=adfrows+len(df)\n",
    "            df_plist.append(df)\n",
    "        s=reduce(lambda left,right: pd.merge(left,right), df_plist)\n",
    "        print(len(s),' SNPs match')\n",
    "#Average rows of patient\n",
    "        avg_adfrows=round(adfrows/len(df_plist))\n",
    "#Find the similartity among the selected patients\n",
    "        similarity=round(len(s)/avg_adfrows,2)*100\n",
    "        print('Similarity :',\"{:.2f}\".format(similarity),'%')\n",
    "    except:\n",
    "         print(\"Oops!\",sys.exc_info()[0],\"occured.\")"
   ]
  },
  {
   "cell_type": "markdown",
   "metadata": {},
   "source": [
    "#### End of Reduction "
   ]
  },
  {
   "cell_type": "code",
   "execution_count": 101,
   "metadata": {},
   "outputs": [],
   "source": [
    "#Get first 50 SNP as sample to get their corresponding gene names\n",
    "snplists=s['ID'][:50]\n"
   ]
  },
  {
   "cell_type": "code",
   "execution_count": 102,
   "metadata": {},
   "outputs": [],
   "source": [
    "snplists.to_csv(r'c:/ibdapps/snplists.csv', header=True, index=False)"
   ]
  },
  {
   "cell_type": "code",
   "execution_count": 104,
   "metadata": {},
   "outputs": [
    {
     "name": "stdout",
     "output_type": "stream",
     "text": [
      "['rs4072383', 'rs3748592', 'rs4970378', 'rs3748595', 'rs3828047', 'rs3748596', 'rs3748597', 'rs369883627', 'rs13303010', 'rs4970441', 'rs2340593', 'rs15842', 'rs8997', 'rs2799066', 'rs3128102', 'rs10267', 'rs9803031', 'rs4633229', 'rs6603781', 'rs10907179', 'rs307349', 'rs307350', 'rs307378', 'rs307377', 'rs307362', 'rs140777846', 'rs12755088', 'rs1059822', 'rs1059831', 'rs36039898', 'rs16825265', 'rs2294488', 'rs2376805', 'rs28581504', 'rs2645081', 'rs78924098', 'rs12727342', 'rs2477699', 'rs2477706', 'rs2985862', 'rs2843401', 'rs4648657', 'rs4648659', 'rs4648662', 'rs870124', 'rs6424078', 'rs2493249', 'rs2185639', 'rs4638054', 'rs10797395']\n"
     ]
    }
   ],
   "source": [
    "print(snplists.to_list())"
   ]
  },
  {
   "cell_type": "markdown",
   "metadata": {},
   "source": [
    "# Increase"
   ]
  },
  {
   "cell_type": "code",
   "execution_count": 105,
   "metadata": {},
   "outputs": [],
   "source": [
    "def my_cut (x, bins,\n",
    "            lower_infinite=True, upper_infinite=True,\n",
    "            **kwargs):\n",
    "    r\"\"\"Wrapper around pandas cut() to create infinite lower/upper bounds with proper labeling.\n",
    "\n",
    "    Takes all the same arguments as pandas cut(), plus two more.\n",
    "\n",
    "    Args :\n",
    "        lower_infinite (bool, optional) : set whether the lower bound is infinite\n",
    "            Default is True. If true, and your first bin element is something like 20, the\n",
    "            first bin label will be '<= 20' (depending on other cut() parameters)\n",
    "        upper_infinite (bool, optional) : set whether the upper bound is infinite\n",
    "            Default is True. If true, and your last bin element is something like 20, the\n",
    "            first bin label will be '> 20' (depending on other cut() parameters)\n",
    "        **kwargs : any standard pandas cut() labeled parameters\n",
    "\n",
    "    Returns :\n",
    "        out : same as pandas cut() return value\n",
    "        bins : same as pandas cut() return value\n",
    "    \"\"\"\n",
    "\n",
    "    # Quick passthru if no infinite bounds\n",
    "    if not lower_infinite and not upper_infinite:\n",
    "        return pd.cut(x, bins, **kwargs)\n",
    "\n",
    "    # Setup\n",
    "    num_labels      = len(bins) - 1\n",
    "    include_lowest  = kwargs.get(\"include_lowest\", False)\n",
    "    right           = kwargs.get(\"right\", True)\n",
    "\n",
    "    # Prepend/Append infinities where indiciated\n",
    "    bins_final = bins.copy()\n",
    "    if upper_infinite:\n",
    "        bins_final.insert(len(bins),float(\"inf\"))\n",
    "        num_labels += 1\n",
    "    if lower_infinite:\n",
    "        bins_final.insert(0,float(\"-inf\"))\n",
    "        num_labels += 1\n",
    "\n",
    "    # Decide all boundary symbols based on traditional cut() parameters\n",
    "    symbol_lower  = \"<=\" if include_lowest and right else \"<\"\n",
    "    left_bracket  = \"(\" if right else \"[\"\n",
    "    right_bracket = \"]\" if right else \")\"\n",
    "    symbol_upper  = \">\" if right else \">=\"\n",
    "\n",
    "    # Inner function reused in multiple clauses for labeling\n",
    "    def make_label(i, lb=left_bracket, rb=right_bracket):\n",
    "        return \"{0}{1}, {2}{3}\".format(lb, bins_final[i], bins_final[i+1], rb)\n",
    "\n",
    "    # Create custom labels\n",
    "    labels=[]\n",
    "    for i in range(0,num_labels):\n",
    "        new_label = None\n",
    "\n",
    "        if i == 0:\n",
    "            if lower_infinite:\n",
    "                new_label = \"{0} {1}\".format(symbol_lower, bins_final[i+1])\n",
    "            elif include_lowest:\n",
    "                new_label = make_label(i, lb=\"[\")\n",
    "            else:\n",
    "                new_label = make_label(i)\n",
    "        elif upper_infinite and i == (num_labels - 1):\n",
    "            new_label = \"{0} {1}\".format(symbol_upper, bins_final[i])\n",
    "        else:\n",
    "            new_label = make_label(i)\n",
    "\n",
    "        labels.append(new_label)\n",
    "\n",
    "    # Pass thru to pandas cut()\n",
    "    return pd.cut(x, bins_final, labels=labels, **kwargs)"
   ]
  },
  {
   "cell_type": "markdown",
   "metadata": {},
   "source": [
    "### Variable selection for increase"
   ]
  },
  {
   "cell_type": "code",
   "execution_count": 106,
   "metadata": {},
   "outputs": [
    {
     "data": {
      "application/vnd.jupyter.widget-view+json": {
       "model_id": "a4c51643577a4afaacaa4196d49fc6b3",
       "version_major": 2,
       "version_minor": 0
      },
      "text/plain": [
       "interactive(children=(Dropdown(description='Drug used', options=('SEB5ASA_SEB', 'SEBPred1uM_SEBDMSO', 'SEBPred…"
      ]
     },
     "metadata": {},
     "output_type": "display_data"
    }
   ],
   "source": [
    "drop_down=widgets.Dropdown(\n",
    "    options=tnf_mean_compare_i_r[['SEB5ASA_SEB', 'SEBPred1uM_SEBDMSO', 'SEBPred100nM_SEBDMSO',\n",
    "       'SEBBirb796100nM_SEBDMSO', 'SEBBirb79610nM_SEBDMSO']],\n",
    "    value='SEB5ASA_SEB',\n",
    "        description='Drug used',\n",
    "    disabled=False\n",
    "     )\n",
    "\n",
    "def patients(column):\n",
    "    #Return the reduction lists based on the column selected\n",
    "    di=tnf_mean_compare_i_r[tnf_mean_compare_i_r[column]>=0][['Donor_ID',column]]\n",
    "    return di[['Donor_ID',column]]\n",
    "\n",
    "iout=interactive(patients, column=drop_down);\n",
    "interact(patients, column=drop_down);\n"
   ]
  },
  {
   "cell_type": "markdown",
   "metadata": {},
   "source": [
    "#### Provide range (1-100)"
   ]
  },
  {
   "cell_type": "code",
   "execution_count": 107,
   "metadata": {},
   "outputs": [
    {
     "data": {
      "text/plain": [
       "Text(0, 0.5, 'No of patients')"
      ]
     },
     "execution_count": 107,
     "metadata": {},
     "output_type": "execute_result"
    },
    {
     "data": {
      "image/png": "[encoded data removed]",
      "text/plain": [
       "<Figure size 432x288 with 1 Axes>"
      ]
     },
     "metadata": {
      "image/png": {
       "height": 297,
       "width": 389
      },
      "needs_background": "light"
     },
     "output_type": "display_data"
    }
   ],
   "source": [
    "ir=iout.result\n",
    "cir=ir.columns[1]+'_range'\n",
    "cir=cir[0:cir.index('_')]\n",
    "#ir[cir]=my_cut(x=ir[ir.columns[1]], bins=bins_range, precision=0,right=False)\n",
    "ir[cir]=my_cut(x=ir[ir.columns[1]], bins=bins_range, precision=0,right=False)\n",
    "ib=ir.groupby(cir).size().plot(kind='bar',stacked=True)\n",
    "ib.set_ylabel(\"No of patients\")"
   ]
  },
  {
   "cell_type": "code",
   "execution_count": 108,
   "metadata": {},
   "outputs": [
    {
     "data": {
      "application/vnd.jupyter.widget-view+json": {
       "model_id": "bb9afda6c578490083e47329152ab81e",
       "version_major": 2,
       "version_minor": 0
      },
      "text/plain": [
       "interactive(children=(Select(description='SEBPred1uM', layout=Layout(width='530px'), options=('[0, 25)', '[25,…"
      ]
     },
     "metadata": {},
     "output_type": "display_data"
    },
    {
     "data": {
      "text/plain": [
       "<function __main__.patients(column)>"
      ]
     },
     "execution_count": 108,
     "metadata": {},
     "output_type": "execute_result"
    }
   ],
   "source": [
    "drop_style = {'description_width': '450px'}\n",
    "drop_layout = {'width': '530px'}\n",
    "drop_down=widgets.Select(\n",
    "    options=ir[cir].unique().sort_values(ascending=True),\n",
    "    value=None,\n",
    "        description=cir,\n",
    "    disabled=False,\n",
    "    style=drop_style,\n",
    "    layout=drop_layout\n",
    "     )\n",
    "\n",
    "def patients(column):\n",
    "    #return tnf_lowest[tnf_lowest.lowest==column][['Donor_ID']].tolist()\n",
    "    return ir[ir[cir]==column]['Donor_ID'].tolist()\n",
    "    \n",
    "\n",
    "iout_p=interactive(patients, column=drop_down)\n",
    "interact(patients, column=drop_down)\n"
   ]
  },
  {
   "cell_type": "markdown",
   "metadata": {},
   "source": [
    "#### Find SNP matching of the selected  patients "
   ]
  },
  {
   "cell_type": "code",
   "execution_count": 91,
   "metadata": {},
   "outputs": [
    {
     "name": "stdout",
     "output_type": "stream",
     "text": [
      "19412  SNP match\n",
      "Similarity : 51.55 %\n"
     ]
    }
   ],
   "source": [
    "ii=iout_p.result # Get the Donor_ID list based on the selected drug\n",
    "# Read each Donor_ID and find the filename from source based on Donor_ID\n",
    "if len(ii)>1:\n",
    "    try:\n",
    "        ilist=[]\n",
    "        for j in ii:     \n",
    "            fnames=vcf_path+str(j)+'.vcf.gz'\n",
    "            ilist.append(fnames)\n",
    "#Read each VCF file and convert it to Pandas Dataframe, and append all dataframes as a list\n",
    "        adfrows=0\n",
    "        df_ilist=[]\n",
    "        for fname in ilist:\n",
    "            df = allel.vcf_to_dataframe(fname, fields=['CHROM','POS','ID','REF','ALT'],alt_number=1)\n",
    "            adfrows=adfrows+len(df)\n",
    "            df_ilist.append(df)\n",
    "        si=reduce(lambda left,right: pd.merge(left,right), df_ilist)\n",
    "        print(len(si),' SNP match')\n",
    "#Average rows of patient\n",
    "        avg_adfrows=round(adfrows/len(df_ilist))\n",
    "#Find the similartity among the selected patients\n",
    "        similarity=(len(si)/avg_adfrows)*100\n",
    "        print('Similarity :',\"{:.2f}\".format(similarity),'%')\n",
    "    except:\n",
    "         print(\"Oops!\",sys.exc_info()[0],\"occured.\")"
   ]
  },
  {
   "cell_type": "markdown",
   "metadata": {},
   "source": [
    "### End of increase"
   ]
  },
  {
   "cell_type": "markdown",
   "metadata": {},
   "source": [
    "### IBD Donor medical history"
   ]
  },
  {
   "cell_type": "code",
   "execution_count": null,
   "metadata": {},
   "outputs": [],
   "source": [
    "#ibd_new"
   ]
  },
  {
   "cell_type": "code",
   "execution_count": null,
   "metadata": {
    "scrolled": false
   },
   "outputs": [],
   "source": [
    "#ibd_new=ibd_new.rename({'Tissue_Receipt#':'Donor_ID'},axis=1)"
   ]
  },
  {
   "cell_type": "code",
   "execution_count": 149,
   "metadata": {},
   "outputs": [],
   "source": [
    "# #ibd_df=ibd_new.replace({'Donor_ID': {'BT15401':'P15-073', 'BT16002':'P16-001', 'BT16011':'P16-002','BT16018':'P16-003','BT16026':'P16-005',\n",
    "#                                       'BT16021':'P16-004','BT15012':'P15-002','BT15027':'P15-012','BT15032':'P15-017','BT15041':'P15-020',\n",
    "#                                       'BT15078':'P15-030','BT15100':'P15-035','BT15141':'P15-044','BT15188':'P15-041','BT15215':'P15-040',\n",
    "#                                       'BT15228':'P15-058','BT15259':'P15-061','BT15335':'P15-065','BT15063':'P15-025','BT15354':'P15-067',\n",
    "#                                       'BT15013':'P15-004','BT15014':'P15-005','BT15057':'P15-023','BT15033':'P15-018','BT15217':'P15-057'}})\n"
   ]
  },
  {
   "cell_type": "code",
   "execution_count": null,
   "metadata": {},
   "outputs": [],
   "source": [
    "#ibd_df"
   ]
  },
  {
   "cell_type": "code",
   "execution_count": null,
   "metadata": {},
   "outputs": [],
   "source": [
    "#### Save the filtered dataframe as csv file in the local storage for easy access, read the csv file for analysis."
   ]
  },
  {
   "cell_type": "code",
   "execution_count": null,
   "metadata": {},
   "outputs": [],
   "source": [
    "#export_csv = ibd_new.to_csv (r'C:\\Reprocell\\ibd_donors_history.csv', index = None, header=True)"
   ]
  },
  {
   "cell_type": "markdown",
   "metadata": {},
   "source": [
    "#### Read IBD Donor medical history file"
   ]
  },
  {
   "cell_type": "code",
   "execution_count": 109,
   "metadata": {},
   "outputs": [],
   "source": [
    "#ibd_csv1=\"J:/Experimental data/2.0 CURRENT STUDIES/CCR001/Data uploaded to AnalytixAgility/Donor History_IBD_25 donors_Fios.csv\"\n",
    "#ibd_csv=r'C:\\Reprocell\\ibd_donors_history.csv'\n",
    "#ibd_csv=\"C:/Reprocell/data/ibd_donors_history.csv\"\n",
    "ibd_csv=\"J:/Experimental data/2.0 CURRENT STUDIES/CCR001/Data uploaded to AnalytixAgility/ibd_donors_history.csv\""
   ]
  },
  {
   "cell_type": "code",
   "execution_count": 110,
   "metadata": {},
   "outputs": [],
   "source": [
    "ibd_df = pd.read_csv(ibd_csv)"
   ]
  },
  {
   "cell_type": "code",
   "execution_count": 111,
   "metadata": {},
   "outputs": [],
   "source": [
    "ibd_df['Ethnicity']=ibd_df['Ethnicity'].str.capitalize()"
   ]
  },
  {
   "cell_type": "code",
   "execution_count": 112,
   "metadata": {},
   "outputs": [],
   "source": [
    "ibd_df['Disease'] = ibd_df['Tissue_Type'].str.split().str[0]"
   ]
  },
  {
   "cell_type": "code",
   "execution_count": 113,
   "metadata": {
    "scrolled": true
   },
   "outputs": [],
   "source": [
    "#ibd_df.profile_report()"
   ]
  },
  {
   "cell_type": "code",
   "execution_count": 114,
   "metadata": {},
   "outputs": [
    {
     "data": {
      "text/plain": [
       "97"
      ]
     },
     "execution_count": 114,
     "metadata": {},
     "output_type": "execute_result"
    }
   ],
   "source": [
    "len(ibd_df.columns)"
   ]
  },
  {
   "cell_type": "code",
   "execution_count": 115,
   "metadata": {},
   "outputs": [],
   "source": [
    "#len(ibd_df.columns[ibd_df.isna().any()]) ##see any column that contains at least one null value"
   ]
  },
  {
   "cell_type": "code",
   "execution_count": 116,
   "metadata": {},
   "outputs": [],
   "source": [
    "# Drop columns which have null values\n",
    "ibd_df=ibd_df.dropna(axis='columns')"
   ]
  },
  {
   "cell_type": "code",
   "execution_count": 117,
   "metadata": {},
   "outputs": [
    {
     "data": {
      "text/plain": [
       "21"
      ]
     },
     "execution_count": 117,
     "metadata": {},
     "output_type": "execute_result"
    }
   ],
   "source": [
    "len(ibd_df.columns)"
   ]
  },
  {
   "cell_type": "code",
   "execution_count": 175,
   "metadata": {},
   "outputs": [],
   "source": [
    "# See the column contains the word\n",
    "#ibd_df['Specific_Condition'].str.contains('Cr',regex=False)"
   ]
  },
  {
   "cell_type": "code",
   "execution_count": 177,
   "metadata": {},
   "outputs": [],
   "source": [
    "#import pandas_profiling\n",
    "#ibd_df.profile_report()"
   ]
  },
  {
   "cell_type": "markdown",
   "metadata": {},
   "source": [
    "## Find Gene names based on SNP "
   ]
  },
  {
   "cell_type": "code",
   "execution_count": 52,
   "metadata": {},
   "outputs": [],
   "source": [
    "import Bio\n",
    "from Bio import Entrez\n",
    "Entrez.email = \"sazzadur.rahman@reprocell.com\""
   ]
  },
  {
   "cell_type": "code",
   "execution_count": 54,
   "metadata": {},
   "outputs": [],
   "source": [
    "record = Entrez.read(Entrez.elink(dbfrom=\"snp\", \n",
    "                                  id=\",\".join(snplists).replace('rs', ''), \n",
    "                                  db=\"gene\"))"
   ]
  },
  {
   "cell_type": "code",
   "execution_count": 77,
   "metadata": {},
   "outputs": [
    {
     "data": {
      "text/plain": [
       "[{'ERROR': [], 'LinkSetDb': [{'Link': [{'Id': '27237'}], 'DbTo': 'gene', 'LinkName': 'snp_gene'}], 'LinkSetDbHistory': [], 'DbFrom': 'snp', 'IdList': ['10797395']}]"
      ]
     },
     "execution_count": 77,
     "metadata": {},
     "output_type": "execute_result"
    }
   ],
   "source": [
    "record"
   ]
  },
  {
   "cell_type": "code",
   "execution_count": 78,
   "metadata": {},
   "outputs": [
    {
     "data": {
      "text/plain": [
       "{'ERROR': [], 'LinkSetDb': [{'Link': [{'Id': '27237'}], 'DbTo': 'gene', 'LinkName': 'snp_gene'}], 'LinkSetDbHistory': [], 'DbFrom': 'snp', 'IdList': ['10797395']}"
      ]
     },
     "execution_count": 78,
     "metadata": {},
     "output_type": "execute_result"
    }
   ],
   "source": [
    "record[0]"
   ]
  },
  {
   "cell_type": "code",
   "execution_count": 62,
   "metadata": {},
   "outputs": [
    {
     "name": "stdout",
     "output_type": "stream",
     "text": [
      "snp_id ---- gene_name\n",
      "============================\n",
      "rs4072383 ---- SAMD11\n",
      "rs3748592 ---- SAMD11\n",
      "rs3748592 ---- NOC2L\n",
      "rs4970378 ---- NOC2L\n",
      "rs3748595 ---- NOC2L\n",
      "rs3828047 ---- NOC2L\n",
      "rs3748596 ---- NOC2L\n",
      "rs3748597 ---- NOC2L\n",
      "rs369883627 ---- NOC2L\n",
      "rs13303010 ---- KLHL17\n",
      "rs13303010 ---- NOC2L\n",
      "rs4970441 ---- KLHL17\n",
      "rs2340593 ---- PLEKHN1\n",
      "rs15842 ---- ISG15\n",
      "rs8997 ---- ISG15\n",
      "rs2799066 ---- AGRN\n",
      "rs3128102 ---- AGRN\n",
      "rs10267 ---- AGRN\n",
      "rs9803031 ---- AGRN\n",
      "rs4633229 ---- RNF223\n",
      "rs6603781 ---- SDF4\n",
      "rs10907179 ---- INTS11\n",
      "rs307349 ---- CPTP\n",
      "rs307350 ---- CPTP\n",
      "rs307378 ---- TAS1R3\n",
      "rs307377 ---- TAS1R3\n",
      "rs307362 ---- DVL1\n",
      "rs140777846 ---- MXRA8\n",
      "rs12755088 ---- MIB2\n",
      "rs1059822 ---- CDK11A\n",
      "rs1059831 ---- CDK11A\n",
      "rs36039898 ---- CDK11A\n",
      "rs16825265 ---- CDK11A\n",
      "rs2294488 ---- SLC35E2A\n",
      "rs2376805 ---- GABRD\n",
      "rs28581504 ---- GABRD\n",
      "rs2645081 ---- RER1\n",
      "rs78924098 ---- RER1\n",
      "rs12727342 ---- PLCH2\n",
      "rs2477699 ---- PLCH2\n",
      "rs2477706 ---- PLCH2\n",
      "rs2985862 ---- PANK4\n",
      "rs2843401 ---- MMEL1\n",
      "rs4648657 ---- MMEL1\n",
      "rs4648659 ---- MMEL1\n",
      "rs4648662 ---- TTC34\n",
      "rs870124 ---- PRDM16\n",
      "rs6424078 ---- ARHGEF16\n",
      "rs2493249 ---- ARHGEF16\n",
      "rs2185639 ---- ARHGEF16\n",
      "rs4638054 ---- ARHGEF16\n",
      "rs10797395 ---- ARHGEF16\n"
     ]
    }
   ],
   "source": [
    "gene_names=[]\n",
    "print(\"snp_id\", '----' ,\"gene_name\")\n",
    "print(\"============================\")\n",
    "for snp_id in snplists:\n",
    "    record = Entrez.read(Entrez.elink(dbfrom=\"snp\", \n",
    "                                  id=snp_id.replace('rs',''), \n",
    "                                  db=\"gene\"))\n",
    "    results = record[0]['LinkSetDb'][0]['Link']\n",
    "    \n",
    "    for result in results:\n",
    "        uid = result['Id']\n",
    "        handle = Entrez.esummary(db=\"gene\", id=uid)\n",
    "        uid_record = Entrez.read(handle)\n",
    "        handle.close()\n",
    "        uid_summary = uid_record[\"DocumentSummarySet\"]['DocumentSummary'][0]\n",
    "        gene_name = uid_summary['Name']\n",
    "        gene_names.append(gene_name)\n",
    "\n",
    "        #print(snp_id, uid, gene_name)\n",
    "        print(snp_id, '----' ,gene_name)"
   ]
  },
  {
   "cell_type": "code",
   "execution_count": 76,
   "metadata": {},
   "outputs": [
    {
     "name": "stdout",
     "output_type": "stream",
     "text": [
      "52 genes were extracted for  50  SNPs\n"
     ]
    }
   ],
   "source": [
    "print(len(gene_names), 'genes were extracted for ', len(snplists),' SNPs')"
   ]
  },
  {
   "cell_type": "markdown",
   "metadata": {},
   "source": [
    "### Find unique gene names from the list"
   ]
  },
  {
   "cell_type": "code",
   "execution_count": 104,
   "metadata": {},
   "outputs": [
    {
     "name": "stdout",
     "output_type": "stream",
     "text": [
      "Gene Names\n",
      "\n",
      "\n",
      "SAMD11\n",
      "GABRD\n",
      "MMEL1\n",
      "SLC35E2A\n",
      "ARHGEF16\n",
      "KLHL17\n",
      "MIB2\n",
      "NOC2L\n",
      "AGRN\n",
      "RER1\n",
      "PANK4\n",
      "CPTP\n",
      "INTS11\n",
      "PLCH2\n",
      "RNF223\n",
      "MXRA8\n",
      "PRDM16\n",
      "DVL1\n",
      "CDK11A\n",
      "TTC34\n",
      "PLEKHN1\n",
      "TAS1R3\n",
      "ISG15\n",
      "SDF4\n",
      "\n",
      "\n",
      "24  genes\n"
     ]
    }
   ],
   "source": [
    "names=set(gene_names)\n",
    "print(\"Gene Names\")\n",
    "print('\\n')\n",
    "print(*names,sep='\\n')\n",
    "print('\\n')\n",
    "print(len(names),' genes')"
   ]
  },
  {
   "cell_type": "code",
   "execution_count": 90,
   "metadata": {},
   "outputs": [],
   "source": [
    "genedf=pd.DataFrame(names, columns=[\"gene\"])"
   ]
  },
  {
   "cell_type": "code",
   "execution_count": 105,
   "metadata": {},
   "outputs": [],
   "source": [
    "genedf.to_csv(r'c:\\IBDapps\\genes.csv', index=False)"
   ]
  },
  {
   "cell_type": "code",
   "execution_count": null,
   "metadata": {},
   "outputs": [],
   "source": []
  }
 ],
 "metadata": {
  "kernelspec": {
   "display_name": "Python 3",
   "language": "python",
   "name": "python3"
  },
  "language_info": {
   "codemirror_mode": {
    "name": "ipython",
    "version": 3
   },
   "file_extension": ".py",
   "mimetype": "text/x-python",
   "name": "python",
   "nbconvert_exporter": "python",
   "pygments_lexer": "ipython3",
   "version": "3.7.3"
  },
  "toc": {
   "base_numbering": 1,
   "nav_menu": {},
   "number_sections": false,
   "sideBar": false,
   "skip_h1_title": false,
   "title_cell": "Table of Contents",
   "title_sidebar": "Contents",
   "toc_cell": false,
   "toc_position": {},
   "toc_section_display": false,
   "toc_window_display": false
  }
 },
 "nbformat": 4,
 "nbformat_minor": 2
}
